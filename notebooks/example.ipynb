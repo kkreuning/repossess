{
 "cells": [
  {
   "cell_type": "code",
   "execution_count": null,
   "metadata": {},
   "outputs": [],
   "source": [
    "import plotly.express as px\n",
    "import plotly.graph_objects as go\n",
    "from plotly.subplots import make_subplots"
   ]
  },
  {
   "cell_type": "code",
   "execution_count": null,
   "metadata": {},
   "outputs": [],
   "source": [
    "%load_ext sql"
   ]
  },
  {
   "cell_type": "code",
   "execution_count": null,
   "metadata": {},
   "outputs": [],
   "source": [
    "%sql sqlite:///database.db"
   ]
  },
  {
   "cell_type": "code",
   "execution_count": null,
   "metadata": {},
   "outputs": [],
   "source": [
    "contributions_q = '''\n",
    "SELECT\n",
    "    ac.author_name,\n",
    "    anc.n_commits,\n",
    "    ac.n_lines_added,\n",
    "    ac.n_lines_deleted,\n",
    "    ac.n_lines_changed\n",
    "FROM\n",
    "    authors_contibutions ac JOIN authors_n_commits anc USING(author_name)\n",
    "ORDER BY\n",
    "    anc.n_commits DESC;\n",
    "'''\n",
    "contributions = %sql $contributions_q\n",
    "contributions = contributions.DataFrame()"
   ]
  },
  {
   "cell_type": "code",
   "execution_count": null,
   "metadata": {},
   "outputs": [],
   "source": [
    "fig = px.pie(contributions, title='n_commits per author', values='n_commits', names='author_name')\n",
    "fig.show()\n",
    "\n",
    "fig = go.Figure(data=[\n",
    "    go.Bar(name='n_lines_added', x=contributions.author_name, y=contributions.n_lines_added, base=0),\n",
    "    go.Bar(name='n_lines_deleted', x=contributions.author_name, y=contributions.n_lines_deleted, base=list(map(lambda x: -x, contributions.n_lines_deleted))),\n",
    "])\n",
    "fig.update_layout(title='n_lines_added and n_lines_deleted per author', barmode='stack')\n",
    "fig.show()"
   ]
  },
  {
   "cell_type": "code",
   "execution_count": null,
   "metadata": {},
   "outputs": [],
   "source": [
    "changes_over_time_q = '''\n",
    "SELECT\n",
    "    cc.*,\n",
    "    AVG(cc.n_files) OVER (ORDER BY cc.commit_date ROWS BETWEEN 2 PRECEDING AND 2 FOLLOWING) AS avg_files,\n",
    "    c.message AS commit_message\n",
    "FROM\n",
    "    commits_changes cc JOIN commits c ON cc.commit_hash = c.hash;\n",
    "'''\n",
    "\n",
    "changes_over_time = %sql $changes_over_time_q\n",
    "changes_over_time = changes_over_time.DataFrame().astype({'commit_date': 'datetime64[ns]'})"
   ]
  },
  {
   "cell_type": "code",
   "execution_count": null,
   "metadata": {},
   "outputs": [],
   "source": [
    "fig = make_subplots(specs=[[{'secondary_y': True}]])\n",
    "fig.update_xaxes(title_text='date')\n",
    "\n",
    "fig.add_trace(go.Scatter(x=changes_over_time.commit_date, y=changes_over_time.avg_files, name='n_files', line_shape='hvh', hovertext=changes_over_time.commit_message))\n",
    "fig.update_yaxes(title_text='file_count')\n",
    "\n",
    "fig.add_trace(go.Scatter(x=changes_over_time.commit_date, y=changes_over_time.avg_complexity, name='avg_complexity', line_shape='hvh', hovertext=changes_over_time.commit_message), secondary_y=True)\n",
    "fig.update_yaxes(title_text='avg_complexity', secondary_y=True)\n",
    "\n",
    "fig.show()"
   ]
  },
  {
   "cell_type": "code",
   "execution_count": null,
   "metadata": {},
   "outputs": [],
   "source": [
    "coupling_q = 'SELECT * FROM files_coupling fc;'\n",
    "coupling = %sql $coupling_q\n",
    "coupling = coupling.DataFrame()\n",
    "\n",
    "display(coupling)\n",
    "\n",
    "# TODO: Chord diagram, ideally grouped by package"
   ]
  },
  {
   "cell_type": "code",
   "execution_count": null,
   "metadata": {},
   "outputs": [],
   "source": [
    "changes_x_size_complexity_q = '''\n",
    "SELECT\n",
    "    f.\"path\" AS file_path,\n",
    "    COUNT(s.file_path) AS n_changes,\n",
    "    AVG(s.code_lines) AS avg_code_lines,\n",
    "    AVG(s.complexity) AS avg_complexity\n",
    "FROM\n",
    "    files f,\n",
    "    snapshots s\n",
    "WHERE\n",
    "    s.file_path = f.\"path\" AND\n",
    "    s.changed = TRUE AND\n",
    "    f.language in ('scala', 'java')\n",
    "GROUP BY\n",
    "    f.file_name;\n",
    "'''\n",
    "\n",
    "changes_x_size_complexity = %sql $changes_x_size_complexity_q\n",
    "changes_x_size_complexity = changes_x_size_complexity.DataFrame()"
   ]
  },
  {
   "cell_type": "code",
   "execution_count": null,
   "metadata": {},
   "outputs": [],
   "source": [
    "fig = px.scatter(\n",
    "    changes_x_size_complexity,\n",
    "    x='n_changes',\n",
    "    y='file_path',\n",
    "    size='avg_code_lines',\n",
    "    color='avg_complexity',\n",
    "    title='Scala and Java hotspots',\n",
    "    hover_data=['file_path'],\n",
    "    color_continuous_scale=[\"green\", \"red\", \"black\"],\n",
    "    height=800,\n",
    ")\n",
    "fig.update_layout(\n",
    "    yaxis = dict(\n",
    "        tickmode='array',\n",
    "        tickson='boundaries',\n",
    "        showline=True,\n",
    "    )\n",
    ")\n",
    "fig.show()\n",
    "\n",
    "# TODO: Circle Packing Chart by package"
   ]
  },
  {
   "cell_type": "code",
   "execution_count": null,
   "metadata": {},
   "outputs": [],
   "source": []
  },
  {
   "cell_type": "code",
   "execution_count": null,
   "metadata": {},
   "outputs": [],
   "source": []
  }
 ],
 "metadata": {
  "kernelspec": {
   "display_name": "Python 3",
   "language": "python",
   "name": "python3"
  },
  "language_info": {
   "codemirror_mode": {
    "name": "ipython",
    "version": 3
   },
   "file_extension": ".py",
   "mimetype": "text/x-python",
   "name": "python",
   "nbconvert_exporter": "python",
   "pygments_lexer": "ipython3",
   "version": "3.7.6"
  }
 },
 "nbformat": 4,
 "nbformat_minor": 4
}
